{
  "nbformat": 4,
  "nbformat_minor": 0,
  "metadata": {
    "colab": {
      "provenance": [],
      "collapsed_sections": [
        "CdWr8kMKOY7E"
      ]
    },
    "kernelspec": {
      "name": "python3",
      "display_name": "Python 3"
    },
    "language_info": {
      "name": "python"
    }
  },
  "cells": [
    {
      "cell_type": "markdown",
      "source": [
        "# Distribuição Poisson"
      ],
      "metadata": {
        "id": "Ne3p5mxSORRO"
      }
    },
    {
      "cell_type": "markdown",
      "source": [
        "## Teoria"
      ],
      "metadata": {
        "id": "CdWr8kMKOY7E"
      }
    },
    {
      "cell_type": "markdown",
      "source": [
        "Como fazer para reconhecer a distribuição de Poisson?\n",
        "\n",
        "\n",
        "Para isso, é preciso observar se três aspectos estão presentes:\n",
        "\n",
        "\n",
        "1 – Irá calcular a quantidade de vezes que determinado evento ocorre em certo período\n",
        "que pode ser de tempo, volume, área entre outros;\n",
        "\n",
        "\n",
        "2 – A probabilidade de ocorrer o evento não muda em cada intervalo, ou seja, ela se\n",
        "mantém a mesma em todos os intervalos;\n",
        "\n",
        "\n",
        "3 – O número das ocorrências presente em um intervalo não é dependente de outro.\n"
      ],
      "metadata": {
        "id": "TG1_6fwHOhX6"
      }
    },
    {
      "cell_type": "markdown",
      "source": [
        "- Distribuição Poisson para o cálculo de P(X=x)\n",
        "\n",
        "poisson.pmf(x,media)\n",
        "\n",
        "\n",
        "- Distribuição Poisson para o cálculo de P(0<X<x) = P(X<x)\n",
        "\n",
        "poisson.cdf(x,media)\n",
        "\n",
        "- Distribuição Poisson para o cálculo de P(X>x)\n",
        "\n",
        "poisson.sf(x,media)"
      ],
      "metadata": {
        "id": "CjDyhEIvOwqu"
      }
    },
    {
      "cell_type": "markdown",
      "source": [
        "** Importante:\n",
        "Para usar as funções de cálculo de\n",
        "probabilidade para a distribuição\n",
        "binomial no Python é necessário\n",
        "primeiramente que você importe a\n",
        "função poisson:\n",
        "from scipy.stats import\n",
        "poisson"
      ],
      "metadata": {
        "id": "yQAe1zcGPOiO"
      }
    },
    {
      "cell_type": "markdown",
      "source": [
        "## Exercícios"
      ],
      "metadata": {
        "id": "uXIBTwTcOVrD"
      }
    },
    {
      "cell_type": "markdown",
      "source": [
        "Um banco realizou uma coleta\n",
        "de dados e, a partir daí\n",
        "percebeu-se que em uma hora,\n",
        "6 clientes adquirem certo\n",
        "seguro.\n"
      ],
      "metadata": {
        "id": "ITgoMb3lPU9r"
      }
    },
    {
      "cell_type": "markdown",
      "source": [
        "X: número de seguros vendidos\n",
        "\n",
        "Período: Uma hora\n",
        "Média (lambda): 6\n",
        "\n",
        "Distribuição Poisson"
      ],
      "metadata": {
        "id": "4Dl4cd1nPZps"
      }
    },
    {
      "cell_type": "markdown",
      "source": [
        "a) A instituição deseja saber qual a probabilidade de, no mesmo período de tempo, 8 seguros serem vendidos.\n",
        "\n",
        "Média = 6 seguros por hora"
      ],
      "metadata": {
        "id": "2w0ZQ07gPsYC"
      }
    },
    {
      "cell_type": "code",
      "source": [
        "from scipy.stats import poisson"
      ],
      "metadata": {
        "id": "tXfHoQJHQBok"
      },
      "execution_count": 3,
      "outputs": []
    },
    {
      "cell_type": "code",
      "source": [
        "resultado = poisson.pmf(8,6)\n",
        "print(\"Resultado: \", resultado)\n",
        "print(\"A probabilidade de 8 seguros serem vendidos é de: \", resultado.round(4)*100, \"%\")"
      ],
      "metadata": {
        "colab": {
          "base_uri": "https://localhost:8080/"
        },
        "id": "Inn9f0GiOU2K",
        "outputId": "5788d424-8d42-41e5-ba42-c46c94d01272"
      },
      "execution_count": 12,
      "outputs": [
        {
          "output_type": "stream",
          "name": "stdout",
          "text": [
            "Resultado:  0.1032577335308442\n",
            "A probabilidade de 8 seguros serem vendidos é de:  10.33 %\n"
          ]
        }
      ]
    },
    {
      "cell_type": "markdown",
      "source": [
        "b) A instituição deseja saber qual a probabilidade de, no mesmo período de tempo, pelo menos 8 seguros serem vendidos.\n",
        "\n",
        "Média = 6 seguros por hora\n"
      ],
      "metadata": {
        "id": "K0eMlGePR8fz"
      }
    },
    {
      "cell_type": "code",
      "source": [
        "resultado2 = poisson.sf(7,6)\n",
        "print(\"Resultado 2 : \", resultado2)\n",
        "print(\"A probabilidade de PELO menos 8 seguros é de: \", resultado2.round(4)*100, \"%\")"
      ],
      "metadata": {
        "colab": {
          "base_uri": "https://localhost:8080/"
        },
        "id": "D9QpRUOFQnp6",
        "outputId": "9a3e5e9d-3fb3-4bcc-a01a-b7e7d9c2460d"
      },
      "execution_count": 13,
      "outputs": [
        {
          "output_type": "stream",
          "name": "stdout",
          "text": [
            "Resultado 2 :  0.2560202395462829\n",
            "A probabilidade de PELO menos 8 seguros é de:  25.6 %\n"
          ]
        }
      ]
    },
    {
      "cell_type": "markdown",
      "source": [
        "c) A instituição deseja saber qual a probabilidade de, no mesmo período de tempo, menos de 8 seguros serem vendidos.\n",
        "\n",
        "Média = 6 seguros por hora\n"
      ],
      "metadata": {
        "id": "_AgO6l6XSegQ"
      }
    },
    {
      "cell_type": "code",
      "source": [
        "resultado3 = poisson.cdf(7,6)\n",
        "print(\"Resultado 3 : \", resultado3)\n",
        "print(\"A probabilidade de MENOS de 8 seguros é de: \", resultado3.round(4)*100, \"%\")"
      ],
      "metadata": {
        "colab": {
          "base_uri": "https://localhost:8080/"
        },
        "id": "FMwcW-FjSifo",
        "outputId": "e0ad79ce-2da9-4a90-eb41-8b5aade9f7ca"
      },
      "execution_count": 14,
      "outputs": [
        {
          "output_type": "stream",
          "name": "stdout",
          "text": [
            "Resultado 3 :  0.743979760453717\n",
            "A probabilidade de MENOS de 8 seguros é de:  74.4 %\n"
          ]
        }
      ]
    },
    {
      "cell_type": "markdown",
      "source": [
        "d) A instituição deseja saber qual a probabilidade de, no período de 4 horas, 18 seguros serem vendidos.\n",
        "\n",
        "Média = 6 seguros por hora\n",
        "\n",
        "\n",
        "Média = 6*4 = 24 seguros por 4 horas"
      ],
      "metadata": {
        "id": "2iOaBeKkTKpL"
      }
    },
    {
      "cell_type": "code",
      "source": [
        "resultado = poisson.pmf(18,24)\n",
        "print(\"Resultado: \", resultado)\n",
        "print(\"A probabilidade de 18 seguros serem vendidos em 4 horas é de: \", resultado.round(4)*100, \"%\")"
      ],
      "metadata": {
        "colab": {
          "base_uri": "https://localhost:8080/"
        },
        "id": "nxs4lLd9TQt4",
        "outputId": "8ffe310d-09bf-4400-a2a7-a58a2c58101a"
      },
      "execution_count": 15,
      "outputs": [
        {
          "output_type": "stream",
          "name": "stdout",
          "text": [
            "Resultado:  0.0411522670196081\n",
            "A probabilidade de 18 seguros serem vendidos em 4 horas é de:  4.12 %\n"
          ]
        }
      ]
    }
  ]
}